{
  "nbformat": 4,
  "nbformat_minor": 0,
  "metadata": {
    "colab": {
      "name": "Assignment_2.ipynb",
      "provenance": [],
      "collapsed_sections": [],
      "authorship_tag": "ABX9TyPobMj2mtOlxmplmOYcB8i8",
      "include_colab_link": true
    },
    "kernelspec": {
      "name": "python3",
      "display_name": "Python 3"
    },
    "language_info": {
      "name": "python"
    }
  },
  "cells": [
    {
      "cell_type": "markdown",
      "metadata": {
        "id": "view-in-github",
        "colab_type": "text"
      },
      "source": [
        "<a href=\"https://colab.research.google.com/github/17sachin/NLP-Assignment/blob/main/Assignment_2.ipynb\" target=\"_parent\"><img src=\"https://colab.research.google.com/assets/colab-badge.svg\" alt=\"Open In Colab\"/></a>"
      ]
    },
    {
      "cell_type": "markdown",
      "source": [
        "1.What are Corpora?\n",
        "\n",
        "Text corpora (singular: text corpus) are large and structured sets of texts, which have been systematically collected."
      ],
      "metadata": {
        "id": "1utnCkWadTET"
      }
    },
    {
      "cell_type": "markdown",
      "source": [
        "2.What are Tokens?\n",
        "\n",
        "A token is an object that represents something else, such as another object (either physical or virtual), or an abstract concept as, for example, a gift is sometimes referred to as a token of the giver's esteem for the recipient. In computers, there are a number of types of tokens."
      ],
      "metadata": {
        "id": "9piwTOiddjVO"
      }
    },
    {
      "cell_type": "markdown",
      "source": [
        "3.What are Unigrams, Bigrams, Trigrams?\n",
        "\n",
        "A 1-gram (or unigram) is a one-word sequence.\n",
        "\n",
        "A 2-gram (or bigram) is a two-word sequence of words, like “I love”, “love reading”.\n",
        "\n",
        "And a 3-gram (or trigram) is a three-word sequence of words like “I love reading”, “about data science” or “on ineuron ai”."
      ],
      "metadata": {
        "id": "0f_kXJMvduUV"
      }
    },
    {
      "cell_type": "markdown",
      "source": [
        "4.How to generate n-grams from text?\n",
        "\n",
        "N-grams are all possible combinations of “N” words from the text. When two words are combined at a time, they are known as Bigrams, when three words are combined at a time, they are known as Trigrams, so on and so forth. They are very useful when we are trying to do NLP because combinations of words are more meaningful as compared to individual words.\n",
        "\n",
        "There are two ways to generate N-grams, either by writing the logic yourself or by using the nltk library function"
      ],
      "metadata": {
        "id": "chD8_yzKeCxs"
      }
    },
    {
      "cell_type": "markdown",
      "source": [
        "5.Explain Lemmatization\n",
        "\n",
        "Lemmatization usually refers to doing things properly with the use of a vocabulary and morphological analysis of words, normally aiming to remove inflectional endings only and to return the base or dictionary form of a word, which is known as the lemma "
      ],
      "metadata": {
        "id": "HI3wuoQreUmc"
      }
    },
    {
      "cell_type": "markdown",
      "source": [
        "6.Explain Stemming\n",
        "\n",
        "Stemming is basically removing the suffix from a word and reduce it to its root word. For example: “Flying” is a word and its suffix is “ing”, if we remove “ing” from “Flying” then we will get base word or root word which is “Fly”"
      ],
      "metadata": {
        "id": "lMGYxluSeguZ"
      }
    },
    {
      "cell_type": "markdown",
      "source": [
        "7.Explain Part-of-speech (POS) tagging\n",
        "\n",
        "It is a process of converting a sentence to forms – list of words, list of tuples (where each tuple is having a form (word, tag)). The tag in case of is a part-of-speech tag, and signifies whether the word is a noun, adjective, verb, and so on."
      ],
      "metadata": {
        "id": "BZYLdH2-ep4h"
      }
    },
    {
      "cell_type": "markdown",
      "source": [
        "8.Explain Chunking or shallow parsing\n",
        "\n",
        "Shallow parsing (also chunking or light parsing) is an analysis of a sentence which first identifies constituent parts of sentences (nouns, verbs, adjectives, etc.) and then links them to higher order units that have discrete grammatical meanings (noun groups or phrases, verb groups, etc.)."
      ],
      "metadata": {
        "id": "xjWdWrAlezZ7"
      }
    },
    {
      "cell_type": "markdown",
      "source": [
        "9.Explain Noun Phrase (NP) chunking\n",
        "\n",
        "NP-chunks are often smaller pieces than complete noun phrases. For example, the market for system-management software for Digital's hardware is a single noun phrase (containing two nested noun phrases), but it is captured in NP-chunks by the simpler chunk the market."
      ],
      "metadata": {
        "id": "TKAZGE43e8rS"
      }
    },
    {
      "cell_type": "markdown",
      "source": [
        "10.Explain Named Entity Recognition\n",
        "\n",
        "Entity Recognition is the process of detecting the named entities such as person names, location names, company names, etc from the text. 4. It is also known as entity identification or entity extraction or entity chunking"
      ],
      "metadata": {
        "id": "r-bD3oXGfHsy"
      }
    }
  ]
}